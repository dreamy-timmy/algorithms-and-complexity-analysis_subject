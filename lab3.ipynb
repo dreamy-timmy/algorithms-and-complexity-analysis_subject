{
 "cells": [
  {
   "cell_type": "markdown",
   "metadata": {},
   "source": [
    "## Третья лабораторная работа"
   ]
  },
  {
   "cell_type": "markdown",
   "metadata": {},
   "source": [
    "# **FIRST** TASK"
   ]
  },
  {
   "cell_type": "markdown",
   "metadata": {},
   "source": [
    "*Brief description*:\n",
    "\n",
    "`1.\tСгенерировать все возможные перестановки элементов 1, ... ,n. Использовать алгоритм Нарайана, Джонсона-Троттере, вектора инверсий. Выполнить сравнительный анализ времени работы `"
   ]
  },
  {
   "cell_type": "markdown",
   "metadata": {},
   "source": [
    "### Permutations Algorithms\n",
    "**Narayana** algorithm"
   ]
  },
  {
   "cell_type": "code",
   "execution_count": 2,
   "metadata": {},
   "outputs": [],
   "source": [
    "def narayana(input_a: list):\n",
    "    a = input_a.copy()\n",
    "    k = 0\n",
    "    l = 0\n",
    "    a1 = [ind for ind in range(len(a)-1) if a[ind] < a[ind+1]]\n",
    "    if a1:\n",
    "        k = max(a1)\n",
    "    else:\n",
    "        return a\n",
    "    l = max(ind for ind in range(len(a)) if a[k] < a[ind]) \n",
    "    a[k], a[l] = a[l], a[k]\n",
    "\n",
    "    ans = a[:k+1]\n",
    "    rev = list(reversed(a[k+1:]))\n",
    "    ans.extend(rev)\n",
    "    \n",
    "    return ans"
   ]
  },
  {
   "cell_type": "code",
   "execution_count": 3,
   "metadata": {},
   "outputs": [],
   "source": [
    "def narayana_permutations(n):\n",
    "    a = list(range(1, n+1))\n",
    "    prev = narayana(a)\n",
    "    permutations = [a]\n",
    "    curr = []\n",
    "    if n != 1: permutations.append(prev) \n",
    "\n",
    "    while prev != curr:\n",
    "        if len(curr) > 0:\n",
    "            permutations.append(curr) \n",
    "            new_res = narayana(curr)\n",
    "            prev = curr\n",
    "        else: \n",
    "            new_res = narayana(prev)\n",
    "        curr = new_res\n",
    "\n",
    "        # prev, res = res, new_res\n",
    "        # permutations.append(res) \n",
    "        # print('prev vs curr', prev, curr)\n",
    "\n",
    "    return permutations"
   ]
  },
  {
   "cell_type": "code",
   "execution_count": 4,
   "metadata": {},
   "outputs": [
    {
     "name": "stdout",
     "output_type": "stream",
     "text": [
      "120\n"
     ]
    },
    {
     "data": {
      "text/plain": [
       "[[1, 2, 3, 4, 5],\n",
       " [1, 2, 3, 5, 4],\n",
       " [1, 2, 4, 3, 5],\n",
       " [1, 2, 4, 5, 3],\n",
       " [1, 2, 5, 3, 4],\n",
       " [1, 2, 5, 4, 3],\n",
       " [1, 3, 2, 4, 5],\n",
       " [1, 3, 2, 5, 4],\n",
       " [1, 3, 4, 2, 5],\n",
       " [1, 3, 4, 5, 2],\n",
       " [1, 3, 5, 2, 4],\n",
       " [1, 3, 5, 4, 2],\n",
       " [1, 4, 2, 3, 5],\n",
       " [1, 4, 2, 5, 3],\n",
       " [1, 4, 3, 2, 5],\n",
       " [1, 4, 3, 5, 2],\n",
       " [1, 4, 5, 2, 3],\n",
       " [1, 4, 5, 3, 2],\n",
       " [1, 5, 2, 3, 4],\n",
       " [1, 5, 2, 4, 3],\n",
       " [1, 5, 3, 2, 4],\n",
       " [1, 5, 3, 4, 2],\n",
       " [1, 5, 4, 2, 3],\n",
       " [1, 5, 4, 3, 2],\n",
       " [2, 1, 3, 4, 5],\n",
       " [2, 1, 3, 5, 4],\n",
       " [2, 1, 4, 3, 5],\n",
       " [2, 1, 4, 5, 3],\n",
       " [2, 1, 5, 3, 4],\n",
       " [2, 1, 5, 4, 3],\n",
       " [2, 3, 1, 4, 5],\n",
       " [2, 3, 1, 5, 4],\n",
       " [2, 3, 4, 1, 5],\n",
       " [2, 3, 4, 5, 1],\n",
       " [2, 3, 5, 1, 4],\n",
       " [2, 3, 5, 4, 1],\n",
       " [2, 4, 1, 3, 5],\n",
       " [2, 4, 1, 5, 3],\n",
       " [2, 4, 3, 1, 5],\n",
       " [2, 4, 3, 5, 1],\n",
       " [2, 4, 5, 1, 3],\n",
       " [2, 4, 5, 3, 1],\n",
       " [2, 5, 1, 3, 4],\n",
       " [2, 5, 1, 4, 3],\n",
       " [2, 5, 3, 1, 4],\n",
       " [2, 5, 3, 4, 1],\n",
       " [2, 5, 4, 1, 3],\n",
       " [2, 5, 4, 3, 1],\n",
       " [3, 1, 2, 4, 5],\n",
       " [3, 1, 2, 5, 4],\n",
       " [3, 1, 4, 2, 5],\n",
       " [3, 1, 4, 5, 2],\n",
       " [3, 1, 5, 2, 4],\n",
       " [3, 1, 5, 4, 2],\n",
       " [3, 2, 1, 4, 5],\n",
       " [3, 2, 1, 5, 4],\n",
       " [3, 2, 4, 1, 5],\n",
       " [3, 2, 4, 5, 1],\n",
       " [3, 2, 5, 1, 4],\n",
       " [3, 2, 5, 4, 1],\n",
       " [3, 4, 1, 2, 5],\n",
       " [3, 4, 1, 5, 2],\n",
       " [3, 4, 2, 1, 5],\n",
       " [3, 4, 2, 5, 1],\n",
       " [3, 4, 5, 1, 2],\n",
       " [3, 4, 5, 2, 1],\n",
       " [3, 5, 1, 2, 4],\n",
       " [3, 5, 1, 4, 2],\n",
       " [3, 5, 2, 1, 4],\n",
       " [3, 5, 2, 4, 1],\n",
       " [3, 5, 4, 1, 2],\n",
       " [3, 5, 4, 2, 1],\n",
       " [4, 1, 2, 3, 5],\n",
       " [4, 1, 2, 5, 3],\n",
       " [4, 1, 3, 2, 5],\n",
       " [4, 1, 3, 5, 2],\n",
       " [4, 1, 5, 2, 3],\n",
       " [4, 1, 5, 3, 2],\n",
       " [4, 2, 1, 3, 5],\n",
       " [4, 2, 1, 5, 3],\n",
       " [4, 2, 3, 1, 5],\n",
       " [4, 2, 3, 5, 1],\n",
       " [4, 2, 5, 1, 3],\n",
       " [4, 2, 5, 3, 1],\n",
       " [4, 3, 1, 2, 5],\n",
       " [4, 3, 1, 5, 2],\n",
       " [4, 3, 2, 1, 5],\n",
       " [4, 3, 2, 5, 1],\n",
       " [4, 3, 5, 1, 2],\n",
       " [4, 3, 5, 2, 1],\n",
       " [4, 5, 1, 2, 3],\n",
       " [4, 5, 1, 3, 2],\n",
       " [4, 5, 2, 1, 3],\n",
       " [4, 5, 2, 3, 1],\n",
       " [4, 5, 3, 1, 2],\n",
       " [4, 5, 3, 2, 1],\n",
       " [5, 1, 2, 3, 4],\n",
       " [5, 1, 2, 4, 3],\n",
       " [5, 1, 3, 2, 4],\n",
       " [5, 1, 3, 4, 2],\n",
       " [5, 1, 4, 2, 3],\n",
       " [5, 1, 4, 3, 2],\n",
       " [5, 2, 1, 3, 4],\n",
       " [5, 2, 1, 4, 3],\n",
       " [5, 2, 3, 1, 4],\n",
       " [5, 2, 3, 4, 1],\n",
       " [5, 2, 4, 1, 3],\n",
       " [5, 2, 4, 3, 1],\n",
       " [5, 3, 1, 2, 4],\n",
       " [5, 3, 1, 4, 2],\n",
       " [5, 3, 2, 1, 4],\n",
       " [5, 3, 2, 4, 1],\n",
       " [5, 3, 4, 1, 2],\n",
       " [5, 3, 4, 2, 1],\n",
       " [5, 4, 1, 2, 3],\n",
       " [5, 4, 1, 3, 2],\n",
       " [5, 4, 2, 1, 3],\n",
       " [5, 4, 2, 3, 1],\n",
       " [5, 4, 3, 1, 2],\n",
       " [5, 4, 3, 2, 1]]"
      ]
     },
     "execution_count": 4,
     "metadata": {},
     "output_type": "execute_result"
    }
   ],
   "source": [
    "# a = [3, 7, 1, 4]\n",
    "\n",
    "perms = narayana_permutations(5)\n",
    "print(len(perms))\n",
    "perms"
   ]
  },
  {
   "cell_type": "code",
   "execution_count": 5,
   "metadata": {},
   "outputs": [
    {
     "data": {
      "text/plain": [
       "[3, 7, 1]"
      ]
     },
     "execution_count": 5,
     "metadata": {},
     "output_type": "execute_result"
    }
   ],
   "source": [
    "narayana([3, 1, 7])"
   ]
  },
  {
   "cell_type": "code",
   "execution_count": 6,
   "metadata": {},
   "outputs": [
    {
     "name": "stdout",
     "output_type": "stream",
     "text": [
      "[1, 3, 7]\n",
      "[1, 7, 3]\n",
      "[7, 1, 3]\n"
     ]
    }
   ],
   "source": [
    "a = [1,3,7]\n",
    "print(a)\n",
    "for ind in range(len(a)-1, 0, -1):\n",
    "    a[ind], a[ind-1] = a[ind-1], a[ind]\n",
    "    print(a)\n",
    "\n",
    "# a"
   ]
  },
  {
   "cell_type": "code",
   "execution_count": 7,
   "metadata": {},
   "outputs": [
    {
     "data": {
      "text/plain": [
       "['left', 'left']"
      ]
     },
     "execution_count": 7,
     "metadata": {},
     "output_type": "execute_result"
    }
   ],
   "source": [
    "a = [1, 2]\n",
    "directions = ['left']*len(a)\n",
    "directions"
   ]
  },
  {
   "cell_type": "code",
   "execution_count": 8,
   "metadata": {},
   "outputs": [
    {
     "data": {
      "text/plain": [
       "5"
      ]
     },
     "execution_count": 8,
     "metadata": {},
     "output_type": "execute_result"
    }
   ],
   "source": [
    "d = {1:2, 1:5, 2:5}\n",
    "d[1]"
   ]
  },
  {
   "cell_type": "code",
   "execution_count": 9,
   "metadata": {},
   "outputs": [
    {
     "data": {
      "text/plain": [
       "[2, 1, 3]"
      ]
     },
     "execution_count": 9,
     "metadata": {},
     "output_type": "execute_result"
    }
   ],
   "source": [
    "ar = [1, 2, 3]\n",
    "for i in range(len(ar)):\n",
    "    if i == 0:\n",
    "        ar[i], ar[i+1] = ar[i+1], ar[i]\n",
    "ar"
   ]
  },
  {
   "cell_type": "markdown",
   "metadata": {},
   "source": [
    "**Johnson-Trotter** algorithm"
   ]
  },
  {
   "cell_type": "code",
   "execution_count": 10,
   "metadata": {},
   "outputs": [],
   "source": [
    "# 1 3 7\n",
    "# 1 7 3\n",
    "# 7 1 3\n",
    "\n",
    "def johnson_trotter_permutations(n):\n",
    "    \n",
    "    def get_largest_mobile(a, directions):\n",
    "        max_mobile = None\n",
    "        max_index = -1\n",
    "        for i in range(len(a)):\n",
    "            if directions[i] == 'left' and i>0 and a[i]>a[i-1]:\n",
    "                if max_mobile is None or a[i] > max_mobile:\n",
    "                    max_mobile, max_index = a[i], i\n",
    "            elif directions[i] == 'right' and i<len(a)-1 and a[i]>a[i+1]:\n",
    "                if max_mobile is None or a[i] > max_mobile:\n",
    "                    max_mobile, max_index = a[i], i\n",
    "        return max_index\n",
    "     \n",
    "    def swap(a, directions, i):\n",
    "        if directions[i] == 'left':\n",
    "            a[i], a[i-1] = a[i-1], a[i]\n",
    "            directions[i], directions[i-1] = directions[i-1], directions[i] \n",
    "            return i - 1\n",
    "        \n",
    "        a[i], a[i+1] = a[i+1], a[i]\n",
    "        directions[i], directions[i+1] = directions[i+1], directions[i] \n",
    "        return i + 1\n",
    "    \n",
    "    def flip_directions(a, directions, max_mobile):\n",
    "        for i in range(len(a)):\n",
    "            if a[i] > max_mobile:\n",
    "                directions[i] = 'right' if directions[i] == 'left' else 'left'\n",
    "\n",
    "\n",
    "    a = list(range(1, n+1))\n",
    "    a.sort()\n",
    "    directions = ['left'] * n\n",
    "    permutations = [a.copy()]\n",
    "    while True:\n",
    "        max_index = get_largest_mobile(a, directions)\n",
    "        if max_index == -1:\n",
    "            break\n",
    "\n",
    "        max_mobile = a[max_index]\n",
    "        new_index = swap(a, directions, max_index)\n",
    "        flip_directions(a, directions, max_mobile)\n",
    "\n",
    "        permutations.append(a.copy())\n",
    "    return permutations\n"
   ]
  },
  {
   "cell_type": "code",
   "execution_count": 11,
   "metadata": {},
   "outputs": [
    {
     "name": "stdout",
     "output_type": "stream",
     "text": [
      "6\n",
      "[1, 2, 3]\n",
      "[1, 3, 2]\n",
      "[3, 1, 2]\n",
      "[3, 2, 1]\n",
      "[2, 3, 1]\n",
      "[2, 1, 3]\n"
     ]
    }
   ],
   "source": [
    "# a = [1, 3, 7, 6]\n",
    "res = johnson_trotter_permutations(3)\n",
    "print(len(res))\n",
    "\n",
    "for el in res:\n",
    "    print(el)"
   ]
  },
  {
   "cell_type": "markdown",
   "metadata": {},
   "source": [
    "**Inversion vector** algorithm"
   ]
  },
  {
   "cell_type": "code",
   "execution_count": 12,
   "metadata": {},
   "outputs": [],
   "source": [
    "def generate_inversion_vectors(n: int):\n",
    "    '''\n",
    "    Generate inversion vectors given the dimension\n",
    "    Parameters:\n",
    "        n (int): vector dimension\n",
    "    \n",
    "    Returns:\n",
    "        inversion_vectors (list): list of generated inversion vectors\n",
    "    '''\n",
    "    # inversion_vectors = []\n",
    "\n",
    "    def backtrack(current, index):\n",
    "        if index == n:\n",
    "            yield list(reversed(current[:]))\n",
    "            return\n",
    "        \n",
    "        for value in range(index + 1):  # Values range from 0 to index\n",
    "            current[index] = value\n",
    "            yield from backtrack(current, index + 1)  # Recurse to the next index\n",
    "    \n",
    "    # Start with an empty inversion vector\n",
    "    yield from backtrack([0] * n, 0)\n",
    "    \n",
    "    # return inversion_vectors\n",
    "\n",
    "def generate_permutations(input_inv_vectors: list):\n",
    "    '''\n",
    "    Generates n! permutations from inversed vectors given\n",
    "\n",
    "    Parameters:\n",
    "        input_inv_vectors (list): inversed vectors\n",
    "\n",
    "    Returns:\n",
    "        permutations (list): permutations of initial [1, ... ,n] \n",
    "    '''\n",
    "    # inv_vectors = input_inv_vectors[:]  # Copy the inversion vectors\n",
    "    n = len(next(iter(input_inv_vectors)))  # Length of the vectors\n",
    "    initial = list(range(1, n+1))  # Initial sequence [1, 2, ..., n]\n",
    "    yield initial\n",
    "    \n",
    "    permutations = []\n",
    "\n",
    "    for inv_vector in input_inv_vectors:\n",
    "        new_vec = []  # Start with an empty permutation\n",
    "        init = initial[:]  # Copy the initial numbers\n",
    "        # inv_v = inv_vector[:]  # Copy the inversion vector to avoid modification\n",
    "\n",
    "        # Process elements from right to left (highest to lowest index)\n",
    "        for i in range(n-1, -1, -1):\n",
    "            index = inv_vector[i]  # Get index from inversion vector\n",
    "            new_vec.insert(index, init.pop())  # Insert element at the correct position\n",
    "        \n",
    "        yield new_vec\n",
    "    \n",
    "    return permutations    \n",
    "\n",
    "def inversion_vectors_permutations(n: int) -> list:\n",
    "    inv_vectors = generate_inversion_vectors(n=n)\n",
    "    perms = generate_permutations(inv_vectors)\n",
    "    \n",
    "    return list(perms)"
   ]
  },
  {
   "cell_type": "code",
   "execution_count": 13,
   "metadata": {},
   "outputs": [
    {
     "data": {
      "text/plain": [
       "([[1, 2, 3], [2, 1, 3], [2, 3, 1], [1, 3, 2], [3, 1, 2], [3, 2, 1]], 6)"
      ]
     },
     "execution_count": 13,
     "metadata": {},
     "output_type": "execute_result"
    }
   ],
   "source": [
    "perms = inversion_vectors_permutations(3)\n",
    "perms, len(perms)"
   ]
  },
  {
   "cell_type": "markdown",
   "metadata": {},
   "source": [
    "### **TEST TIME, yeay!**"
   ]
  },
  {
   "cell_type": "code",
   "execution_count": 14,
   "metadata": {},
   "outputs": [],
   "source": [
    "n_values = list(range(1, 10))"
   ]
  },
  {
   "cell_type": "code",
   "execution_count": 15,
   "metadata": {},
   "outputs": [],
   "source": [
    "import time\n",
    "\n",
    "def get_execution_time(n_values: list[int], method: callable) -> list:\n",
    "    time_values = []\n",
    "    for n in n_values:\n",
    "        st = time.time()\n",
    "        res = method(n)\n",
    "        end = time.time()\n",
    "        print('----------------------')\n",
    "        print('n: ', n)\n",
    "        time_values.append(end-st)\n",
    "    return time_values"
   ]
  },
  {
   "cell_type": "code",
   "execution_count": 16,
   "metadata": {},
   "outputs": [
    {
     "name": "stdout",
     "output_type": "stream",
     "text": [
      "----------------------\n",
      "n:  1\n",
      "----------------------\n",
      "n:  2\n",
      "----------------------\n",
      "n:  3\n",
      "----------------------\n",
      "n:  4\n",
      "----------------------\n",
      "n:  5\n",
      "----------------------\n",
      "n:  6\n",
      "----------------------\n",
      "n:  7\n",
      "----------------------\n",
      "n:  8\n",
      "----------------------\n",
      "n:  9\n"
     ]
    }
   ],
   "source": [
    "narayana_time_values = get_execution_time(n_values, narayana_permutations)"
   ]
  },
  {
   "cell_type": "code",
   "execution_count": 17,
   "metadata": {},
   "outputs": [
    {
     "name": "stdout",
     "output_type": "stream",
     "text": [
      "----------------------\n",
      "n:  1\n",
      "----------------------\n",
      "n:  2\n",
      "----------------------\n",
      "n:  3\n",
      "----------------------\n",
      "n:  4\n",
      "----------------------\n",
      "n:  5\n",
      "----------------------\n",
      "n:  6\n",
      "----------------------\n",
      "n:  7\n",
      "----------------------\n",
      "n:  8\n",
      "----------------------\n",
      "n:  9\n"
     ]
    }
   ],
   "source": [
    "johnson_time_values = get_execution_time(n_values, johnson_trotter_permutations)"
   ]
  },
  {
   "cell_type": "code",
   "execution_count": 18,
   "metadata": {},
   "outputs": [
    {
     "name": "stdout",
     "output_type": "stream",
     "text": [
      "----------------------\n",
      "n:  1\n",
      "----------------------\n",
      "n:  2\n",
      "----------------------\n",
      "n:  3\n",
      "----------------------\n",
      "n:  4\n",
      "----------------------\n",
      "n:  5\n",
      "----------------------\n",
      "n:  6\n",
      "----------------------\n",
      "n:  7\n",
      "----------------------\n",
      "n:  8\n",
      "----------------------\n",
      "n:  9\n"
     ]
    }
   ],
   "source": [
    "inv_vectors_time_values = get_execution_time(n_values, inversion_vectors_permutations)"
   ]
  },
  {
   "cell_type": "code",
   "execution_count": 44,
   "metadata": {},
   "outputs": [],
   "source": [
    "import matplotlib.pyplot as plt\n",
    "\n",
    "def plotting_time_analysis_results(n_values: list, Methods_Values: list[list], Methods_Names: list[str]):\n",
    "\n",
    "    # plt.plot(n_values, narayana_time_values)\n",
    "\n",
    "    for i, method_time_values in enumerate(Methods_Values):\n",
    "        plt.plot(n_values, method_time_values, label=Methods_Names[i])\n",
    "    plt.xlabel('n values')\n",
    "    plt.ylabel('time')\n",
    "    # plt.show()\n",
    "    # plt.plot(n_values, johnson_time_values)\n",
    "    # plt.show()\n",
    "        \n",
    "    # plt.plot(n_values, inv_vectors_time_value/s)\n",
    "    \n",
    "    plt.legend()\n",
    "    # plt.legend(Methods_Names)\n",
    "    \n",
    "    # plt.legend(['narayana', 'johnson-trotter', 'inversion vectors'])\n",
    "\n",
    "    plt.show()"
   ]
  },
  {
   "cell_type": "code",
   "execution_count": 48,
   "metadata": {},
   "outputs": [
    {
     "data": {
      "image/png": "[encoded data removed]",
      "text/plain": [
       "<Figure size 640x480 with 1 Axes>"
      ]
     },
     "metadata": {},
     "output_type": "display_data"
    }
   ],
   "source": [
    "plotting_time_analysis_results(n_values, [narayana_time_values, johnson_time_values, inv_vectors_time_values], ['narayana', 'johnson-trotter', 'inversion vectors'])"
   ]
  },
  {
   "cell_type": "markdown",
   "metadata": {},
   "source": [
    "# **SECOND TASK**"
   ]
  },
  {
   "cell_type": "markdown",
   "metadata": {},
   "source": [
    "*Brief description*:\n",
    "\n",
    "`2.\tДано множество элементов целого типа, сгенерировать все возможные комбинации перестановок элементов (элементы могут повторяться, каждая сгенерированная подпоследовательность должна быть уникальной).`"
   ]
  },
  {
   "cell_type": "code",
   "execution_count": 21,
   "metadata": {},
   "outputs": [
    {
     "name": "stdout",
     "output_type": "stream",
     "text": [
      "(1, 1, 2)\n"
     ]
    }
   ],
   "source": [
    "from itertools import combinations\n",
    "\n",
    "for x in combinations([1, 1, 2], 3):\n",
    "    print(x)"
   ]
  },
  {
   "cell_type": "code",
   "execution_count": 22,
   "metadata": {},
   "outputs": [],
   "source": [
    "# narayana implementation\n",
    "def get_unique_permutations(a: list[int]):\n",
    "    prev = narayana(a)\n",
    "    combinations = [a]\n",
    "    curr = []\n",
    "    if len(a) != 1: combinations.append(prev) \n",
    "\n",
    "    while prev != curr:\n",
    "        if len(curr) > 0 and curr not in combinations:\n",
    "            combinations.append(curr) \n",
    "            new_res = narayana(curr)\n",
    "            prev = curr\n",
    "        else: \n",
    "            new_res = narayana(prev)\n",
    "        curr = new_res\n",
    "\n",
    "    return combinations"
   ]
  },
  {
   "cell_type": "code",
   "execution_count": 23,
   "metadata": {},
   "outputs": [],
   "source": [
    "# get_unique_permutations(a[:length])"
   ]
  },
  {
   "cell_type": "code",
   "execution_count": 24,
   "metadata": {},
   "outputs": [
    {
     "data": {
      "text/plain": [
       "[[1, 1, 2], [1, 2, 1], [2, 1, 1]]"
      ]
     },
     "execution_count": 24,
     "metadata": {},
     "output_type": "execute_result"
    }
   ],
   "source": [
    "get_unique_permutations([1,1,2])"
   ]
  },
  {
   "cell_type": "code",
   "execution_count": 25,
   "metadata": {},
   "outputs": [
    {
     "data": {
      "text/plain": [
       "[[1, 2, 3], [1, 3, 2], [2, 1, 3], [2, 3, 1], [3, 1, 2], [3, 2, 1]]"
      ]
     },
     "execution_count": 25,
     "metadata": {},
     "output_type": "execute_result"
    }
   ],
   "source": [
    "get_unique_permutations([1,2,3])\n"
   ]
  },
  {
   "cell_type": "markdown",
   "metadata": {},
   "source": [
    "# **THIRD TASK**"
   ]
  },
  {
   "cell_type": "markdown",
   "metadata": {},
   "source": [
    "*Brief description*:\n",
    "\n",
    "`3.Пусть задано n-элементов. Необходимо перебрать все возможные варианты выборки из этих элементов (выборки по одному элементу, по два ,…, из n элементов). Пример элементов: стол, стул, шкаф`"
   ]
  },
  {
   "cell_type": "markdown",
   "metadata": {},
   "source": [
    "Поскольку условием не уточняется, могут ли элементы выборки дублироваться, для определённости примем, что <ins>НЕ МОГУТ </ins>"
   ]
  },
  {
   "cell_type": "code",
   "execution_count": 26,
   "metadata": {},
   "outputs": [],
   "source": [
    "def all_possible_combinations(a: list):\n",
    "    possible_combinations = []\n",
    "    for length in range(1, len(a)+1):\n",
    "        print('length:', length)\n",
    "        for i in range(len(a)):\n",
    "            if len(a[i:i+length]) == length:\n",
    "                print(a[i:i+length])\n",
    "                # possible_combinations.extend([get_unique_permutations([a[i]]) for i in range(0, len(a), length)])\n",
    "            # else:\n",
    "                # print(a[i])\n",
    "        # possible_combinations.append(get_unique_permutations(a[:length]))\n",
    "    return possible_combinations"
   ]
  },
  {
   "cell_type": "code",
   "execution_count": 27,
   "metadata": {},
   "outputs": [
    {
     "name": "stdout",
     "output_type": "stream",
     "text": [
      "length: 1\n",
      "[1]\n",
      "[2]\n",
      "[3]\n",
      "[4]\n",
      "length: 2\n",
      "[1, 2]\n",
      "[2, 3]\n",
      "[3, 4]\n",
      "length: 3\n",
      "[1, 2, 3]\n",
      "[2, 3, 4]\n",
      "length: 4\n",
      "[1, 2, 3, 4]\n"
     ]
    },
    {
     "data": {
      "text/plain": [
       "[]"
      ]
     },
     "execution_count": 27,
     "metadata": {},
     "output_type": "execute_result"
    }
   ],
   "source": [
    "b = [1,2,3,4]\n",
    "all_possible_combinations(b)"
   ]
  },
  {
   "cell_type": "code",
   "execution_count": 28,
   "metadata": {},
   "outputs": [],
   "source": [
    "from copy import deepcopy\n",
    "import numpy as np\n",
    "\n",
    "# Рекурсивная функция для генерации всех комбинаций заданной длины\n",
    "def get_combinations(arr, length, start=0, current=None, result=None):\n",
    "    if current is None:\n",
    "        current = []\n",
    "    if result is None:\n",
    "        result = []\n",
    "    if len(current) == length:\n",
    "        result.append(deepcopy(current))\n",
    "        return result\n",
    "    for i in range(start, len(arr)):\n",
    "        current.append(arr[i])\n",
    "        get_combinations(arr, length, i + 1, current, result)\n",
    "        current.pop()\n",
    "    return result\n",
    "\n",
    "def all_possible_combinations(a: list[int]):\n",
    "    possible_combinations = []\n",
    "\n",
    "    for length in range(1, len(a) + 1):\n",
    "        comb = get_combinations(a, length)\n",
    "        possible_combinations.extend(comb)\n",
    "\n",
    "    return possible_combinations\n"
   ]
  },
  {
   "cell_type": "code",
   "execution_count": 29,
   "metadata": {},
   "outputs": [
    {
     "data": {
      "text/plain": [
       "[[1],\n",
       " [2],\n",
       " [3],\n",
       " [4],\n",
       " [1, 2],\n",
       " [1, 3],\n",
       " [1, 4],\n",
       " [2, 3],\n",
       " [2, 4],\n",
       " [3, 4],\n",
       " [1, 2, 3],\n",
       " [1, 2, 4],\n",
       " [1, 3, 4],\n",
       " [2, 3, 4],\n",
       " [1, 2, 3, 4]]"
      ]
     },
     "execution_count": 29,
     "metadata": {},
     "output_type": "execute_result"
    }
   ],
   "source": [
    "all_possible_combinations([1, 2, 3, 4])"
   ]
  },
  {
   "cell_type": "code",
   "execution_count": 30,
   "metadata": {},
   "outputs": [
    {
     "name": "stdout",
     "output_type": "stream",
     "text": [
      "----------------------\n",
      "n:  [320]\n",
      "----------------------\n",
      "n:  [382, 269]\n",
      "----------------------\n",
      "n:  [325, 492, 769]\n",
      "----------------------\n",
      "n:  [969, 654, 365, 650]\n",
      "----------------------\n",
      "n:  [992, 669, 598, 622, 585]\n",
      "----------------------\n",
      "n:  [922, 846, 392, 449, 93, 68]\n",
      "----------------------\n",
      "n:  [712, 120, 567, 178, 489, 1000, 151]\n",
      "----------------------\n",
      "n:  [320]\n",
      "----------------------\n",
      "n:  [382, 269]\n",
      "----------------------\n",
      "n:  [325, 492, 769]\n",
      "----------------------\n",
      "n:  [969, 654, 365, 650]\n",
      "----------------------\n",
      "n:  [992, 669, 598, 622, 585]\n",
      "----------------------\n",
      "n:  [922, 846, 392, 449, 93, 68]\n",
      "----------------------\n",
      "n:  [712, 120, 567, 178, 489, 1000, 151]\n"
     ]
    }
   ],
   "source": [
    "from random import randint\n",
    "arrays = [[randint(1, 1_000) for _ in range(length)] for length in range(1, 8)]\n",
    "all_poss_combination_time = get_execution_time(arrays, method=all_possible_combinations)\n",
    "\n",
    "unique_perms_time = get_execution_time(arrays, method=get_unique_permutations)"
   ]
  },
  {
   "cell_type": "code",
   "execution_count": 31,
   "metadata": {},
   "outputs": [
    {
     "data": {
      "image/png": "[encoded data removed]",
      "text/plain": [
       "<Figure size 640x480 with 1 Axes>"
      ]
     },
     "metadata": {},
     "output_type": "display_data"
    }
   ],
   "source": [
    "plt.plot([len(a) for a in arrays], all_poss_combination_time)\n",
    "plt.plot([len(a) for a in arrays], unique_perms_time)\n",
    "\n",
    "plt.xlabel('arrays length')\n",
    "plt.ylabel('time')\n",
    "plt.legend(['all possible combinations', 'unique permutations'])\n",
    "plt.show()"
   ]
  },
  {
   "cell_type": "markdown",
   "metadata": {},
   "source": [
    "# **FORTH TASK**"
   ]
  },
  {
   "cell_type": "markdown",
   "metadata": {},
   "source": [
    "`4.\tСтудент Петров П.П. имеет некоторую сумму денег для покупки канцелярских принадлежностей. Он составил список необходимых канцелярских принадлежностей с указанием их названия и количества. Пусть имеется прейскурант цен магазина, в котором указаны наименования товаров с указанием цены. Определить, какие канцелярские принадлежности и в каком количестве может купить студент в пределах выделенной суммы при условии, что количество наименований в списке покупок должно быть максимально.`"
   ]
  },
  {
   "cell_type": "code",
   "execution_count": 32,
   "metadata": {},
   "outputs": [],
   "source": [
    "# dict = \n",
    "# ручка - 100р\n",
    "# карандаш - 20р\n",
    "# тетрадь - 50р\n",
    "# дневник - 200р\n",
    "# маркеры - 300р\n",
    "# фломастеры - 150р\n",
    "\n",
    "# QUESTION: HOW MANY and WHAT THINGS (if he needs to buy MAX unique things)\n",
    "\n",
    "# SOLUTION:\n",
    "# sort(dict, key=d.values)\n",
    "\n",
    "# ---------------------------------------\n",
    "# IS THAT A CASE?! \n",
    "# {'pen': 30, 'eraser': 10, 'pencil': 40, 'correcter': 50} - min\n",
    "# ['marker': 100, 'pen': 20, 50, 'highligter': 200]\n",
    "\n",
    "# unique(things) -> max\n",
    "# money = const (1000р)\n",
    "\n",
    "# choose COMBINATION where the sum is min - 1st iteration\n",
    "# then: take [max(el for el in comb if el not in CART) for comb in combinations]\n"
   ]
  },
  {
   "cell_type": "code",
   "execution_count": 33,
   "metadata": {},
   "outputs": [],
   "source": [
    "things = {\n",
    "    'ручка': 100,\n",
    "    'карандаш': 20,\n",
    "    'тетрадь': 50,\n",
    "    'дневник':200,\n",
    "    'маркеры': 300,\n",
    "    'фломастеры': 150}\n",
    "\n",
    "def solution(things: dict, money: float):\n",
    "    cart = {thing: 0 for thing in things.keys()} # thing: how many bought\n",
    "    things = dict(sorted(things.items(), key=lambda item: item[1]))\n",
    "    # print(things)\n",
    "    while money:\n",
    "        for thing, price in things.items():\n",
    "            if money-price >= 0:\n",
    "                cart[thing] += 1\n",
    "                money -= price\n",
    "        if money < min(things.values()):\n",
    "            break\n",
    "    return cart"
   ]
  },
  {
   "cell_type": "code",
   "execution_count": 34,
   "metadata": {},
   "outputs": [
    {
     "data": {
      "text/plain": [
       "{'карандаш': 20,\n",
       " 'тетрадь': 50,\n",
       " 'ручка': 100,\n",
       " 'фломастеры': 150,\n",
       " 'дневник': 200,\n",
       " 'маркеры': 300}"
      ]
     },
     "execution_count": 34,
     "metadata": {},
     "output_type": "execute_result"
    }
   ],
   "source": [
    "dict(sorted(things.items(), key=lambda item: item[1]))"
   ]
  },
  {
   "cell_type": "code",
   "execution_count": 35,
   "metadata": {},
   "outputs": [
    {
     "data": {
      "text/plain": [
       "{'ручка': 2,\n",
       " 'карандаш': 5,\n",
       " 'тетрадь': 4,\n",
       " 'дневник': 1,\n",
       " 'маркеры': 1,\n",
       " 'фломастеры': 2}"
      ]
     },
     "execution_count": 35,
     "metadata": {},
     "output_type": "execute_result"
    }
   ],
   "source": [
    "solution(things, money=1_300)"
   ]
  },
  {
   "cell_type": "code",
   "execution_count": 36,
   "metadata": {},
   "outputs": [
    {
     "data": {
      "text/plain": [
       "{'ручка': 4,\n",
       " 'карандаш': 5,\n",
       " 'тетрадь': 4,\n",
       " 'дневник': 4,\n",
       " 'маркеры': 3,\n",
       " 'фломастеры': 4}"
      ]
     },
     "execution_count": 36,
     "metadata": {},
     "output_type": "execute_result"
    }
   ],
   "source": [
    "solution(things, money=3_000)"
   ]
  }
 ],
 "metadata": {
  "kernelspec": {
   "display_name": "Python 3",
   "language": "python",
   "name": "python3"
  },
  "language_info": {
   "codemirror_mode": {
    "name": "ipython",
    "version": 3
   },
   "file_extension": ".py",
   "mimetype": "text/x-python",
   "name": "python",
   "nbconvert_exporter": "python",
   "pygments_lexer": "ipython3",
   "version": "3.10.6"
  }
 },
 "nbformat": 4,
 "nbformat_minor": 2
}
