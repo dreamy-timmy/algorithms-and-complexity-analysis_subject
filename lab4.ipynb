{
 "cells": [
  {
   "cell_type": "markdown",
   "metadata": {},
   "source": [
    "## Четвёртая лабораторная работа"
   ]
  },
  {
   "cell_type": "markdown",
   "metadata": {},
   "source": [
    "`1) Сгенерировать перестановки значений 1,…n,используя код Грэя.`"
   ]
  },
  {
   "cell_type": "code",
   "execution_count": null,
   "metadata": {},
   "outputs": [],
   "source": [
    "# def gray_code(n):\n",
    "#     if n == 1: return [['1']]\n",
    "#     else:\n",
    "#         result = []\n",
    "#         perms = gray_code(n - 1)\n",
    "#         backward = False\n",
    "#         for perm in perms:\n",
    "#             if backward:\n",
    "#                 current = perm.copy()\n",
    "#                 current.append(str(n))\n",
    "#                 # current = perm + str(n)\n",
    "#                 result.append(current.copy())\n",
    "#                 for i in range(n-1, 0, -1):\n",
    "#                     swap(i - 1, i, current)\n",
    "#                     result.append(current.copy())\n",
    "#             else:\n",
    "#                 print(n, type(n))\n",
    "#                 print(perm, type(perm))\n",
    "#                 print(perms)\n",
    "#                 current = perm.copy()\n",
    "#                 current.insert(0, str(n))\n",
    "#                 # current = str(n) + perm\n",
    "#                 result.append(current)\n",
    "#                 for i in range(1, n-1):\n",
    "#                     print('curr', current, type(current))\n",
    "#                     swap(i, i + 1, current)\n",
    "#                     result.append(current.copy())\n",
    "#             backward = not backward\n",
    "#         return result\n",
    "    \n",
    "# def swap(index_1, index_2, array):\n",
    "#     array[index_1], array[index_2] = array[index_2], array[index_1]\n",
    "#     # return"
   ]
  },
  {
   "cell_type": "code",
   "execution_count": 75,
   "metadata": {},
   "outputs": [],
   "source": [
    "# gray_code(n=3)"
   ]
  },
  {
   "cell_type": "code",
   "execution_count": 1,
   "metadata": {},
   "outputs": [],
   "source": [
    "def gray_code_permutations(n):\n",
    "    from math import log2\n",
    "\n",
    "    def gray_codes(k):\n",
    "        \"\"\"Generate n-bit Gray code\"\"\"\n",
    "        if k == 0:\n",
    "            return ['']\n",
    "        prev = gray_codes(k - 1)\n",
    "        return ['0' + code for code in prev] + ['1' + code for code in reversed(prev)]\n",
    "\n",
    "    def flip_bit_pos(a, b):\n",
    "        \"\"\"Return position of single bit difference (LSB)\"\"\"\n",
    "        return int(log2(a ^ b))\n",
    "\n",
    "    # Generate permutation indices using Gray code order\n",
    "    factorial = 1\n",
    "    for i in range(2, n + 1):\n",
    "        factorial *= i\n",
    "    base_perm = list(range(1, n + 1))\n",
    "\n",
    "    # Instead of full binary Gray code, we use reflected Gray code over `factorial` states\n",
    "    gray_indices = list(range(factorial))\n",
    "    gray_codes_decimal = [i ^ (i >> 1) for i in gray_indices]\n",
    "\n",
    "    # Initialize\n",
    "    from copy import deepcopy\n",
    "    perms = []\n",
    "    current = base_perm.copy()\n",
    "    perms.append(current.copy())\n",
    "\n",
    "    for i in range(1, factorial):\n",
    "        prev = gray_codes_decimal[i - 1]\n",
    "        curr = gray_codes_decimal[i]\n",
    "        pos = flip_bit_pos(prev, curr)\n",
    "        # Swap at position based on Gray code bit flip\n",
    "        if pos < n - 1:\n",
    "            current[pos], current[pos + 1] = current[pos + 1], current[pos]\n",
    "        perms.append(current.copy())\n",
    "\n",
    "    # Convert to string representation like your original\n",
    "    return [[str(x) for x in p] for p in perms]\n"
   ]
  },
  {
   "cell_type": "code",
   "execution_count": 2,
   "metadata": {},
   "outputs": [
    {
     "name": "stdout",
     "output_type": "stream",
     "text": [
      "[['1', '2', '3', '4'],\n",
      " ['2', '1', '3', '4'],\n",
      " ['2', '3', '1', '4'],\n",
      " ['3', '2', '1', '4'],\n",
      " ['3', '2', '4', '1'],\n",
      " ['2', '3', '4', '1'],\n",
      " ['2', '4', '3', '1'],\n",
      " ['4', '2', '3', '1'],\n",
      " ['4', '2', '3', '1'],\n",
      " ['2', '4', '3', '1'],\n",
      " ['2', '3', '4', '1'],\n",
      " ['3', '2', '4', '1'],\n",
      " ['3', '2', '1', '4'],\n",
      " ['2', '3', '1', '4'],\n",
      " ['2', '1', '3', '4'],\n",
      " ['1', '2', '3', '4'],\n",
      " ['1', '2', '3', '4'],\n",
      " ['2', '1', '3', '4'],\n",
      " ['2', '3', '1', '4'],\n",
      " ['3', '2', '1', '4'],\n",
      " ['3', '2', '4', '1'],\n",
      " ['2', '3', '4', '1'],\n",
      " ['2', '4', '3', '1'],\n",
      " ['4', '2', '3', '1']]\n"
     ]
    }
   ],
   "source": [
    "from pprint import pprint\n",
    "\n",
    "pprint(gray_code_permutations(4))\n"
   ]
  },
  {
   "cell_type": "markdown",
   "metadata": {},
   "source": [
    "### Efficiency comparison analysis"
   ]
  },
  {
   "cell_type": "code",
   "execution_count": 3,
   "metadata": {},
   "outputs": [],
   "source": [
    "from utils import get_execution_time, plot_time_analysis_results    "
   ]
  },
  {
   "cell_type": "code",
   "execution_count": 5,
   "metadata": {},
   "outputs": [
    {
     "name": "stdout",
     "output_type": "stream",
     "text": [
      "----------------------\n",
      "Method:  narayana_permutations\n",
      "n:  1\n",
      "n:  2\n",
      "n:  3\n",
      "n:  4\n",
      "n:  5\n",
      "n:  6\n",
      "n:  7\n",
      "n:  8\n",
      "n:  9\n",
      "n:  10\n",
      "----------------------\n",
      "Method:  inversion_vectors_permutations\n",
      "n:  1\n",
      "n:  2\n",
      "n:  3\n",
      "n:  4\n",
      "n:  5\n",
      "n:  6\n",
      "n:  7\n",
      "n:  8\n",
      "n:  9\n",
      "n:  10\n",
      "----------------------\n",
      "Method:  johnson_trotter_permutations\n",
      "n:  1\n",
      "n:  2\n",
      "n:  3\n",
      "n:  4\n",
      "n:  5\n",
      "n:  6\n",
      "n:  7\n",
      "n:  8\n",
      "n:  9\n",
      "n:  10\n",
      "----------------------\n",
      "Method:  gray_code_permutations\n",
      "n:  1\n",
      "n:  2\n",
      "n:  3\n",
      "n:  4\n",
      "n:  5\n",
      "n:  6\n",
      "n:  7\n",
      "n:  8\n",
      "n:  9\n",
      "n:  10\n"
     ]
    },
    {
     "data": {
      "image/png": "[encoded data removed]",
      "text/plain": [
       "<Figure size 1000x500 with 1 Axes>"
      ]
     },
     "metadata": {},
     "output_type": "display_data"
    }
   ],
   "source": [
    "from utils import get_execution_time, plot_time_analysis_results\n",
    "from lab3 import narayana_permutations, inversion_vectors_permutations, johnson_trotter_permutations\n",
    "\n",
    "n_values = range(1, 11)\n",
    "\n",
    "Methods_values = []\n",
    "for method in [narayana_permutations, inversion_vectors_permutations, johnson_trotter_permutations, gray_code_permutations]:\n",
    "    Methods_values.append(get_execution_time(n_values, method))\n",
    "\n",
    "plot_time_analysis_results(n_values, Methods_values, Methods_Names=['Narayana', 'Inversion Vectors', 'Johnson Trotter', 'Gray Code'])\n"
   ]
  },
  {
   "cell_type": "code",
   "execution_count": null,
   "metadata": {},
   "outputs": [],
   "source": []
  }
 ],
 "metadata": {
  "kernelspec": {
   "display_name": "Python 3",
   "language": "python",
   "name": "python3"
  },
  "language_info": {
   "codemirror_mode": {
    "name": "ipython",
    "version": 3
   },
   "file_extension": ".py",
   "mimetype": "text/x-python",
   "name": "python",
   "nbconvert_exporter": "python",
   "pygments_lexer": "ipython3",
   "version": "3.10.6"
  }
 },
 "nbformat": 4,
 "nbformat_minor": 2
}
