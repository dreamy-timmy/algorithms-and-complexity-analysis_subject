{
 "cells": [
  {
   "cell_type": "markdown",
   "metadata": {},
   "source": [
    "## Первая лабораторная работа: последовательность Фибоначчи"
   ]
  },
  {
   "cell_type": "code",
   "execution_count": 1,
   "metadata": {},
   "outputs": [],
   "source": [
    "\n",
    "def recursive_fibonacci(n: int):\n",
    "    global op_count\n",
    "    if n == 0 or n == 1: \n",
    "        op_count += 2\n",
    "        return n # 2 operation\n",
    "\n",
    "    op_count += 2\n",
    "    # f_n_2, op_count_2 = recursive_fibonacci(n-2) # op_count_1 = 4\n",
    "\n",
    "    return recursive_fibonacci(n-1) + recursive_fibonacci(n-2) # 1 operation"
   ]
  },
  {
   "cell_type": "code",
   "execution_count": 6,
   "metadata": {},
   "outputs": [
    {
     "name": "stdout",
     "output_type": "stream",
     "text": [
      "Total operations: 134, Fibonacci(8) = 21\n"
     ]
    }
   ],
   "source": [
    "op_count = 0\n",
    "\n",
    "res = recursive_fibonacci(8)\n",
    "print(f\"Total operations: {op_count}, Fibonacci(8) = {res}\")"
   ]
  },
  {
   "cell_type": "code",
   "execution_count": 13,
   "metadata": {},
   "outputs": [
    {
     "name": "stdout",
     "output_type": "stream",
     "text": [
      "0 0 2\n",
      "1 1 2\n",
      "2 1 6\n",
      "3 2 10\n",
      "4 3 18\n",
      "5 5 30\n",
      "6 8 50\n",
      "7 13 82\n",
      "8 21 134\n",
      "9 34 218\n",
      "10 55 354\n",
      "11 89 574\n",
      "12 144 930\n",
      "13 233 1506\n",
      "14 377 2438\n",
      "15 610 3946\n",
      "16 987 6386\n",
      "17 1597 10334\n",
      "18 2584 16722\n",
      "19 4181 27058\n",
      "20 6765 43782\n",
      "21 10946 70842\n",
      "22 17711 114626\n",
      "23 28657 185470\n",
      "24 46368 300098\n",
      "25 75025 485570\n",
      "26 121393 785670\n",
      "27 196418 1271242\n",
      "28 317811 2056914\n",
      "29 514229 3328158\n",
      "30 832040 5385074\n",
      "31 1346269 8713234\n",
      "32 2178309 14098310\n",
      "33 3524578 22811546\n",
      "34 5702887 36909858\n",
      "35 9227465 59721406\n",
      "36 14930352 96631266\n",
      "37 24157817 156352674\n",
      "38 39088169 252983942\n",
      "39 63245986 409336618\n"
     ]
    }
   ],
   "source": [
    "import time\n",
    "n_values = range(40)\n",
    "operations_values = []\n",
    "time_values = []\n",
    "\n",
    "for n in n_values:\n",
    "    op_count = 0\n",
    "    start_time = time.time()\n",
    "    result = recursive_fibonacci(n)\n",
    "    end_time = time.time()\n",
    "    print(n, result, op_count)\n",
    "\n",
    "    operations_values.append(op_count)\n",
    "    time_values.append(end_time-start_time)"
   ]
  },
  {
   "cell_type": "code",
   "execution_count": 14,
   "metadata": {},
   "outputs": [],
   "source": [
    "time_values = [value*1_000_000 for value in time_values] # перевод в МИКРОсек"
   ]
  },
  {
   "cell_type": "code",
   "execution_count": 7,
   "metadata": {},
   "outputs": [],
   "source": [
    "def iterative_fibonacci(n: int):\n",
    "    global op_count\n",
    "    op_count += 1\n",
    "    if n == 0:\n",
    "        op_count += 1\n",
    "        return 0\n",
    "    elif n == 1:\n",
    "        op_count += 2\n",
    "        return 1\n",
    "    op_count += 1\n",
    "    a, b = 0, 1 # 1 op\n",
    "    op_count += 1\n",
    "    for _ in range(2, n+1): # 1 op\n",
    "        op_count += 1\n",
    "        a, b = b, a+b\n",
    "    op_count += 1\n",
    "    return b  # 1 op"
   ]
  },
  {
   "cell_type": "code",
   "execution_count": 8,
   "metadata": {},
   "outputs": [
    {
     "name": "stdout",
     "output_type": "stream",
     "text": [
      "Total operations: 11, iterative_fibonacci(8) = 21\n"
     ]
    }
   ],
   "source": [
    "op_count = 0\n",
    "\n",
    "res = iterative_fibonacci(8)\n",
    "print(f\"Total operations: {op_count}, iterative_fibonacci(8) = {res}\")"
   ]
  },
  {
   "cell_type": "code",
   "execution_count": 24,
   "metadata": {},
   "outputs": [
    {
     "data": {
      "text/plain": [
       "(3, 7)"
      ]
     },
     "execution_count": 24,
     "metadata": {},
     "output_type": "execute_result"
    }
   ],
   "source": [
    "op_count = 0\n",
    "iterative_fibonacci(4), op_count"
   ]
  },
  {
   "cell_type": "code",
   "execution_count": 10,
   "metadata": {},
   "outputs": [
    {
     "name": "stdout",
     "output_type": "stream",
     "text": [
      "0 0 2\n",
      "1 1 3\n",
      "2 1 5\n",
      "3 2 6\n",
      "4 3 7\n",
      "5 5 8\n",
      "6 8 9\n",
      "7 13 10\n",
      "8 21 11\n",
      "9 34 12\n",
      "10 55 13\n",
      "11 89 14\n",
      "12 144 15\n",
      "13 233 16\n",
      "14 377 17\n",
      "15 610 18\n",
      "16 987 19\n",
      "17 1597 20\n",
      "18 2584 21\n",
      "19 4181 22\n",
      "20 6765 23\n",
      "21 10946 24\n",
      "22 17711 25\n",
      "23 28657 26\n",
      "24 46368 27\n",
      "25 75025 28\n",
      "26 121393 29\n",
      "27 196418 30\n",
      "28 317811 31\n",
      "29 514229 32\n",
      "30 832040 33\n",
      "31 1346269 34\n",
      "32 2178309 35\n",
      "33 3524578 36\n",
      "34 5702887 37\n",
      "35 9227465 38\n",
      "36 14930352 39\n",
      "37 24157817 40\n",
      "38 39088169 41\n",
      "39 63245986 42\n"
     ]
    }
   ],
   "source": [
    "import time\n",
    "n_values = range(40)\n",
    "operations_values_iter = []\n",
    "time_values_iter = []\n",
    "\n",
    "for n in n_values:\n",
    "    op_count = 0\n",
    "    start_time = time.time()\n",
    "    result = iterative_fibonacci(n)\n",
    "    end_time = time.time()\n",
    "    print(n, result, op_count)\n",
    "\n",
    "    operations_values_iter.append(op_count)\n",
    "    time_values_iter.append(end_time-start_time)"
   ]
  },
  {
   "cell_type": "code",
   "execution_count": 11,
   "metadata": {},
   "outputs": [
    {
     "data": {
      "text/plain": [
       "[0.0,\n",
       " 0.0,\n",
       " 0.0,\n",
       " 0.0,\n",
       " 0.0,\n",
       " 0.0,\n",
       " 0.0,\n",
       " 0.0,\n",
       " 0.0,\n",
       " 0.0,\n",
       " 0.0,\n",
       " 0.0,\n",
       " 0.0,\n",
       " 0.0,\n",
       " 0.0,\n",
       " 0.0,\n",
       " 0.0,\n",
       " 0.0,\n",
       " 0.0,\n",
       " 0.0,\n",
       " 0.0,\n",
       " 0.0,\n",
       " 0.0,\n",
       " 0.0,\n",
       " 0.0,\n",
       " 0.0,\n",
       " 0.0,\n",
       " 0.0,\n",
       " 0.0,\n",
       " 0.0,\n",
       " 0.0,\n",
       " 0.0,\n",
       " 0.0,\n",
       " 0.0,\n",
       " 0.0,\n",
       " 0.0,\n",
       " 0.0,\n",
       " 0.0,\n",
       " 0.0,\n",
       " 0.0]"
      ]
     },
     "execution_count": 11,
     "metadata": {},
     "output_type": "execute_result"
    }
   ],
   "source": [
    "time_values_iter"
   ]
  },
  {
   "cell_type": "code",
   "execution_count": 12,
   "metadata": {},
   "outputs": [],
   "source": [
    "time_values_iter = [value*1_000_000 for value in time_values_iter]  # перевод в МИКРОсек"
   ]
  },
  {
   "cell_type": "code",
   "execution_count": 30,
   "metadata": {},
   "outputs": [
    {
     "data": {
      "image/png": "[encoded data removed]",
      "text/plain": [
       "<Figure size 640x480 with 1 Axes>"
      ]
     },
     "metadata": {},
     "output_type": "display_data"
    }
   ],
   "source": [
    "import matplotlib.pyplot as plt\n",
    "\n",
    "plt.title('Количество операций двух методов Фибоначчи')\n",
    "\n",
    "plt.plot(n_values, operations_values)\n",
    "plt.plot(n_values, operations_values_iter)\n",
    "plt.legend(['рекурсия', 'итерации'])\n",
    "plt.show()"
   ]
  },
  {
   "cell_type": "code",
   "execution_count": 15,
   "metadata": {},
   "outputs": [
    {
     "data": {
      "image/png": "[encoded data removed]",
      "text/plain": [
       "<Figure size 640x480 with 1 Axes>"
      ]
     },
     "metadata": {},
     "output_type": "display_data"
    }
   ],
   "source": [
    "import matplotlib.pyplot as plt\n",
    "\n",
    "plt.title('Количество времени двух методов Фибоначчи')\n",
    "\n",
    "plt.plot(n_values, time_values)\n",
    "plt.plot(n_values, time_values_iter)\n",
    "plt.legend(['рекурсия', 'итерации'])\n",
    "plt.show()"
   ]
  }
 ],
 "metadata": {
  "kernelspec": {
   "display_name": "Python 3",
   "language": "python",
   "name": "python3"
  },
  "language_info": {
   "codemirror_mode": {
    "name": "ipython",
    "version": 3
   },
   "file_extension": ".py",
   "mimetype": "text/x-python",
   "name": "python",
   "nbconvert_exporter": "python",
   "pygments_lexer": "ipython3",
   "version": "3.10.6"
  }
 },
 "nbformat": 4,
 "nbformat_minor": 2
}
