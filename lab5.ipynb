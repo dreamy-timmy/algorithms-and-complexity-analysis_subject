{
 "cells": [
  {
   "cell_type": "markdown",
   "id": "eaa3252e",
   "metadata": {},
   "source": [
    "## Пятая лабораторная работа"
   ]
  },
  {
   "cell_type": "markdown",
   "id": "f85d4c3f",
   "metadata": {},
   "source": [
    "The task:\n",
    "\n",
    "`Выполнить сравнительный анализ работы алгоритмов по поиску подстроки в строке (Наивный метод, Алгоритм Бойера-Мура, Алгоритм Рабина-Карпа, Алгоритм Кнута-Морриса-Пратта)`"
   ]
  },
  {
   "cell_type": "markdown",
   "id": "d00569e8",
   "metadata": {},
   "source": [
    "### `NAIVE` method"
   ]
  },
  {
   "cell_type": "code",
   "execution_count": 3,
   "id": "55204945",
   "metadata": {},
   "outputs": [],
   "source": [
    "def naive_pattern_search(pattern: str, text: str):\n",
    "    m = len(pattern)\n",
    "    n = len(text)\n",
    "    match_indexes = []\n",
    "    for i in range(n - m + 1):\n",
    "        j = 0\n",
    "        while j < m and text[i + j] == pattern[j]:\n",
    "            j += 1\n",
    "        if j == m:\n",
    "            # print(f\"Pattern found at index {i}\")\n",
    "            match_indexes.append(i)\n",
    "\n",
    "    return match_indexes"
   ]
  },
  {
   "cell_type": "code",
   "execution_count": 21,
   "id": "893ba6c2",
   "metadata": {},
   "outputs": [
    {
     "name": "stdout",
     "output_type": "stream",
     "text": [
      "[0, 8]\n"
     ]
    }
   ],
   "source": [
    "s = 'aboba000aboba'\n",
    "t = 'aboba'\n",
    "print(naive_pattern_search(t, s))"
   ]
  },
  {
   "cell_type": "markdown",
   "id": "4c7e33bd",
   "metadata": {},
   "source": [
    "### `BOYER-MOORE` method"
   ]
  },
  {
   "cell_type": "code",
   "execution_count": 96,
   "id": "819be435",
   "metadata": {},
   "outputs": [],
   "source": [
    "# Function to precompute bad character table\n",
    "def preBadChar(t, m):\n",
    "\t# Initialize an array to store bad character position\n",
    "\tbadChar = [-1]*256\n",
    "\n",
    "\t# Fill the array with the last occurrence of each character in t\n",
    "\tfor i in range(m):\n",
    "\t\tbadChar[ord(t[i])] = i\n",
    "\n",
    "\treturn badChar\n",
    "\n",
    "# Function to remove all occurrences of t in s\n",
    "def removeOccurrences(s, t):\n",
    "\tm = len(t)\n",
    "\tn = len(s)\n",
    "\t\n",
    "\tmatch_indexes = []\n",
    "\t\n",
    "\t# Precompute the bad character table\n",
    "\tbadChar = preBadChar(t, m)\n",
    "\tmultiplier = 0\n",
    "\ti = 0\n",
    "\twhile i <= n - m:\n",
    "\t\tj = m - 1\n",
    "\n",
    "\t\t# Compare characters from right to left\n",
    "\t\twhile j >= 0 and t[j] == s[i+j]:\n",
    "\t\t\tj -= 1\n",
    "\n",
    "\t\tif j < 0:\n",
    "\t\t\t# If pattern is found, remove it from s\\\n",
    "\t\t\t# print('before', s)\n",
    "\t\t\ts = s[:i] + s[i+m:]\n",
    "\t\t\t# print('after', s)\n",
    "\t\t\tmatch_indexes.append(multiplier*m + i)\n",
    "\t\t\tmultiplier += 1\n",
    "\t\t\t\n",
    "\t\t\tn = len(s)\n",
    "\t\t\ti += m\n",
    "\t\telse:\n",
    "\t\t\t# Shift the pattern so that bad character aligns\n",
    "\t\t\ti += max(1, j - badChar[ord(s[i+j])])\n",
    "\n",
    "\n",
    "\treturn s, match_indexes\n",
    "\n",
    "def bayer_moore(pattern, text):\n",
    "    s, match_indexes = removeOccurrences(text, pattern)\n",
    "    return s, match_indexes"
   ]
  },
  {
   "cell_type": "code",
   "execution_count": 98,
   "id": "06499e4e",
   "metadata": {},
   "outputs": [
    {
     "name": "stdout",
     "output_type": "stream",
     "text": [
      "[0, 13]\n"
     ]
    }
   ],
   "source": [
    "# Driver code\n",
    "s = \"abobaIloveBobaboba\"\n",
    "t = \"aboba\"\n",
    "\n",
    "# Function call\n",
    "s, match_indexes = bayer_moore(t, s)\n",
    "print(match_indexes)\n"
   ]
  },
  {
   "cell_type": "markdown",
   "id": "5d695162",
   "metadata": {},
   "source": [
    "### `RABIN-KARP` method"
   ]
  },
  {
   "cell_type": "code",
   "execution_count": 72,
   "id": "791a07de",
   "metadata": {},
   "outputs": [
    {
     "data": {
      "text/plain": [
       "'ă'"
      ]
     },
     "execution_count": 72,
     "metadata": {},
     "output_type": "execute_result"
    }
   ],
   "source": [
    "chr(259)"
   ]
  },
  {
   "cell_type": "code",
   "execution_count": 99,
   "id": "a31110ff",
   "metadata": {},
   "outputs": [],
   "source": [
    "\n",
    "# d is the number of characters in the input alphabet\n",
    "d = 256\n",
    "\n",
    "def hash_value(x, multiplier, q=101):\n",
    "    # q = 101 # some prime number for hash function\n",
    "    return (d*multiplier + ord(x)) % q\n",
    "\n",
    "# Search the pat string in the txt string\n",
    "def rabin_karp_search(pat, txt, q=101):\n",
    "    M = len(pat)\n",
    "    N = len(txt)\n",
    "    i = 0\n",
    "    j = 0\n",
    "    p = 0    # hash value for pattern\n",
    "    t = 0    # hash value for txt\n",
    "    h = 1\n",
    "\n",
    "    match_indexes = []\n",
    "    # The value of h would be \"pow(d, M-1)%q\"\n",
    "    for i in range(M-1):\n",
    "        h = (h*d) % q\n",
    "\n",
    "    # Calculate the hash value of pattern and first window\n",
    "    # of text\n",
    "    for i in range(M):\n",
    "        p = hash_value(pat[i], p) \n",
    "        t =  hash_value(txt[i], t)\n",
    "\n",
    "    # Slide the pattern over text one by one\n",
    "    for i in range(N-M+1):\n",
    "        # Check the hash values of current window of text and\n",
    "        # pattern if the hash values match then only check\n",
    "        # for characters one by one\n",
    "        if p == t:\n",
    "            # Check for characters one by one\n",
    "            for j in range(M):\n",
    "                if txt[i+j] != pat[j]:\n",
    "                    break\n",
    "                else:\n",
    "                    j += 1\n",
    "\n",
    "            # if p == t and pat[0...M-1] = txt[i, i+1, ...i+M-1]\n",
    "            if j == M:\n",
    "                # print(\"Pattern found at index \" + str(i))\n",
    "                match_indexes.append(i)\n",
    "        # Calculate hash value for next window of text: Remove\n",
    "        # leading digit, add trailing digit\n",
    "        if i < N-M:\n",
    "            t = (d*(t-ord(txt[i])*h) + ord(txt[i+M])) % q\n",
    "\n",
    "            # We might get negative values of t, converting it to\n",
    "            # positive\n",
    "            if t < 0:\n",
    "                t = t+q\n",
    "                \n",
    "    return match_indexes"
   ]
  },
  {
   "cell_type": "code",
   "execution_count": 100,
   "id": "f848c552",
   "metadata": {},
   "outputs": [
    {
     "data": {
      "text/plain": [
       "[0, 13]"
      ]
     },
     "execution_count": 100,
     "metadata": {},
     "output_type": "execute_result"
    }
   ],
   "source": [
    "s = \"abobaIloveBobaboba\"\n",
    "t = \"aboba\"\n",
    "\n",
    "# A prime number\n",
    "\n",
    "    # Function Call\n",
    "indexes = rabin_karp_search(t, s)\n",
    "indexes"
   ]
  },
  {
   "cell_type": "markdown",
   "id": "95657f24",
   "metadata": {},
   "source": [
    "### `Knuth-Morris-Pratt` method"
   ]
  },
  {
   "cell_type": "code",
   "execution_count": 101,
   "id": "c9cbabf4",
   "metadata": {},
   "outputs": [],
   "source": [
    "def KMPSearch(pattern, text):\n",
    "    # Create LPS array\n",
    "    lps = computeLPSArray(pattern)\n",
    "    i = 0  # index for text\n",
    "    j = 0  # index for pattern\n",
    "    \n",
    "    match_indexes = []\n",
    "    while i < len(text):\n",
    "        if pattern[j] == text[i]:\n",
    "            i += 1\n",
    "            j += 1\n",
    "            \n",
    "        if j == len(pattern):\n",
    "            # print(\"Pattern found at index \" + str(i - j))\n",
    "            match_indexes.append(i - j)\n",
    "            j = lps[j - 1]\n",
    "        elif i < len(text) and pattern[j] != text[i]:\n",
    "            if j != 0:\n",
    "                j = lps[j - 1]\n",
    "            else:\n",
    "                i += 1\n",
    "    return match_indexes\n",
    "\n",
    "def computeLPSArray(pattern):\n",
    "    length = 0  # length of previous longest prefix suffix\n",
    "    lps = [0] * len(pattern)\n",
    "    i = 1\n",
    "\n",
    "    while i < len(pattern):\n",
    "        if pattern[i] == pattern[length]:\n",
    "            length += 1\n",
    "            lps[i] = length\n",
    "            i += 1\n",
    "        else:\n",
    "            if length != 0:\n",
    "                length = lps[length - 1]\n",
    "            else:\n",
    "                lps[i] = 0\n",
    "                i += 1\n",
    "\n",
    "    return lps"
   ]
  },
  {
   "cell_type": "code",
   "execution_count": 103,
   "id": "51eae0cf",
   "metadata": {},
   "outputs": [
    {
     "data": {
      "text/plain": [
       "[0, 13]"
      ]
     },
     "execution_count": 103,
     "metadata": {},
     "output_type": "execute_result"
    }
   ],
   "source": [
    "s = \"abobaIloveBobaboba\"\n",
    "t = \"aboba\"\n",
    "\n",
    "# A prime number\n",
    "\n",
    "    # Function Call\n",
    "indexes = KMPSearch(t, s)\n",
    "indexes"
   ]
  },
  {
   "cell_type": "markdown",
   "id": "fa825d5b",
   "metadata": {},
   "source": [
    "### Time Comparison Analysis"
   ]
  },
  {
   "cell_type": "code",
   "execution_count": 156,
   "id": "dc59dbf8",
   "metadata": {},
   "outputs": [],
   "source": [
    "pattern = 'Ilovesushi'\n",
    "text = (pattern + 'Ihatesushi_Iwannabuyacar123' + pattern + 'IwannamovetoUSsooooo' + pattern + 'badlyferfrefefpomni')\n",
    "\n",
    "lengths_multiplier = range(1, 1_000, 50)\n",
    "\n",
    "patterns = [pattern]*len(lengths_multiplier)\n",
    "texts = [multiplier*text for multiplier in lengths_multiplier]\n",
    "# texts"
   ]
  },
  {
   "cell_type": "code",
   "execution_count": 157,
   "id": "2def6cfb",
   "metadata": {},
   "outputs": [
    {
     "name": "stdout",
     "output_type": "stream",
     "text": [
      "['Ilovesushi', 'Ilovesushi', 'Ilovesushi', 'Ilovesushi', 'Ilovesushi', 'Ilovesushi', 'Ilovesushi', 'Ilovesushi', 'Ilovesushi', 'Ilovesushi', 'Ilovesushi', 'Ilovesushi', 'Ilovesushi', 'Ilovesushi', 'Ilovesushi', 'Ilovesushi', 'Ilovesushi', 'Ilovesushi', 'Ilovesushi', 'Ilovesushi', 'AAAAAAAAAAAAAAAAAAAAAAAAAAAAAAAAAAAAAAAAAAAAAAAAAAAAAAAAAAAAAAAAAAAAAAAAAAAAAAAAAAAAAAAAAAAAAAAAAAAAB', 'ACGTACGTAC', 'consectetur adipiscing', 'patternMATCH', 'notinthetext']\n"
     ]
    }
   ],
   "source": [
    "text1 = \"A\" * 100_000 + \"B\"\n",
    "pattern1 = \"A\" * 100 + \"B\"\n",
    "\n",
    "import random\n",
    "\n",
    "text2 = ''.join(random.choices(\"ACGT\", k=100_000))\n",
    "pattern2 = \"ACGTACGTAC\"\n",
    "\n",
    "\n",
    "text3 = (\n",
    "    \"Lorem ipsum dolor sit amet, consectetur adipiscing elit. \" * 1000\n",
    ")\n",
    "pattern3 = \"consectetur adipiscing\"\n",
    "\n",
    "\n",
    "text4 = \"x\" * 99_990 + \"patternMATCH\"\n",
    "pattern4 = \"patternMATCH\"\n",
    "\n",
    "\n",
    "text5 = ''.join(random.choices(\"ABCDEFGHIJKLMNOPQRSTUVWXYZ\", k=100_000))\n",
    "pattern5 = \"notinthetext\"\n",
    "\n",
    "for p, t in [[pattern1, text1], [pattern2, text2], [pattern3, text3], [pattern4, text4], [pattern5, text5]]:\n",
    "    patterns.append(p)\n",
    "    texts.append(t)\n",
    "\n",
    "print(patterns)\n",
    "    "
   ]
  },
  {
   "cell_type": "code",
   "execution_count": 158,
   "id": "d87db28f",
   "metadata": {},
   "outputs": [],
   "source": [
    "import time\n",
    "\n",
    "def get_execution_time(text: str, pattern: str, method: callable) -> list:\n",
    "    '''\n",
    "    Returns the execution time of a method for different n values.\n",
    "    Parameters:\n",
    "        method(callable): method to be executed\n",
    "\n",
    "    Returns:\n",
    "        list: list of execution time values for each n value\n",
    "    '''\n",
    "    time_values = []\n",
    "    print('----------------------')\n",
    "    print('Method: ', method.__name__)\n",
    "    # for text in texts:\n",
    "    st = time.time()\n",
    "    res = method(pattern, text)\n",
    "    end = time.time()\n",
    "\n",
    "    time_values.append(end-st)\n",
    "    \n",
    "    return time_values\n",
    "\n"
   ]
  },
  {
   "cell_type": "code",
   "execution_count": 151,
   "id": "cb9f909f",
   "metadata": {},
   "outputs": [
    {
     "data": {
      "text/plain": [
       "[[0.0]]"
      ]
     },
     "execution_count": 151,
     "metadata": {},
     "output_type": "execute_result"
    }
   ],
   "source": [
    "time_values"
   ]
  },
  {
   "cell_type": "code",
   "execution_count": 160,
   "id": "00a6aa0e",
   "metadata": {},
   "outputs": [],
   "source": [
    "texts_lengths = [len(text) for text in texts]\n"
   ]
  },
  {
   "cell_type": "code",
   "execution_count": 161,
   "id": "033f5f8c",
   "metadata": {},
   "outputs": [
    {
     "data": {
      "text/plain": [
       "[96,\n",
       " 4896,\n",
       " 9696,\n",
       " 14496,\n",
       " 19296,\n",
       " 24096,\n",
       " 28896,\n",
       " 33696,\n",
       " 38496,\n",
       " 43296,\n",
       " 48096,\n",
       " 52896,\n",
       " 57696,\n",
       " 62496,\n",
       " 67296,\n",
       " 72096,\n",
       " 76896,\n",
       " 81696,\n",
       " 86496,\n",
       " 91296,\n",
       " 100001,\n",
       " 100000,\n",
       " 57000,\n",
       " 100002,\n",
       " 100000]"
      ]
     },
     "execution_count": 161,
     "metadata": {},
     "output_type": "execute_result"
    }
   ],
   "source": [
    "texts_lengths"
   ]
  },
  {
   "cell_type": "code",
   "execution_count": 165,
   "id": "9155b308",
   "metadata": {},
   "outputs": [
    {
     "data": {
      "text/plain": [
       "25"
      ]
     },
     "execution_count": 165,
     "metadata": {},
     "output_type": "execute_result"
    }
   ],
   "source": [
    "len(patterns)"
   ]
  },
  {
   "cell_type": "code",
   "execution_count": 167,
   "id": "78dcbf9b",
   "metadata": {},
   "outputs": [
    {
     "data": {
      "text/plain": [
       "4"
      ]
     },
     "execution_count": 167,
     "metadata": {},
     "output_type": "execute_result"
    }
   ],
   "source": [
    "len(time_values)"
   ]
  },
  {
   "cell_type": "code",
   "execution_count": 168,
   "id": "d3d549c1",
   "metadata": {},
   "outputs": [
    {
     "name": "stdout",
     "output_type": "stream",
     "text": [
      "----------------------\n",
      "Method:  naive_pattern_search\n",
      "----------------------\n",
      "Method:  bayer_moore\n",
      "----------------------\n",
      "Method:  rabin_karp_search\n",
      "----------------------\n",
      "Method:  KMPSearch\n"
     ]
    }
   ],
   "source": [
    "import matplotlib.pyplot as plt\n",
    "\n",
    "time_values = []\n",
    "# texts = [text1, text2, text3, text4, text5]\n",
    "# patterns = [pattern1, pattern2, pattern3, pattern4, pattern5]\n",
    "\n",
    "# plt.figure(figsize=(10, 5))\n",
    "for i, method in enumerate([naive_pattern_search, bayer_moore, rabin_karp_search, KMPSearch]):\n",
    "    time_values.append(get_execution_time(texts[i], patterns[i], method))\n",
    "    \n",
    "    # plt.plot(texts_lengths, time_values, label=method.__name__)\n",
    "\n",
    "# plt.legend()\n",
    "# plt.ylabel('Execution TIME')\n",
    "# plt.xlabel('texts LENGTHS')\n",
    "# plt.show()"
   ]
  },
  {
   "cell_type": "code",
   "execution_count": 137,
   "id": "ae0256d3",
   "metadata": {},
   "outputs": [
    {
     "data": {
      "text/plain": [
       "[[1.2440221309661865],\n",
       " [0.021681785583496094],\n",
       " [0.022523880004882812],\n",
       " [0.03193473815917969]]"
      ]
     },
     "execution_count": 137,
     "metadata": {},
     "output_type": "execute_result"
    }
   ],
   "source": [
    "time_values"
   ]
  },
  {
   "cell_type": "code",
   "execution_count": null,
   "id": "f197bbe1",
   "metadata": {},
   "outputs": [
    {
     "data": {
      "image/png": "[encoded data removed]",
      "text/plain": [
       "<Figure size 1000x500 with 1 Axes>"
      ]
     },
     "metadata": {},
     "output_type": "display_data"
    }
   ],
   "source": [
    "plt.figure(figsize=(10, 5))\n",
    "for i, method in enumerate([naive_pattern_search, bayer_moore, rabin_karp_search, KMPSearch]):\n",
    "    # time_values.append(get_execution_time(texts[i], patterns[i], method))\n",
    "    \n",
    "    plt.plot(i, time_values, label=method.__name__)\n",
    "\n",
    "plt.legend()\n",
    "plt.ylabel('Execution TIME')\n",
    "plt.xlabel('texts LENGTHS')\n",
    "plt.show()"
   ]
  },
  {
   "cell_type": "code",
   "execution_count": null,
   "id": "ac6c6b5d",
   "metadata": {},
   "outputs": [
    {
     "ename": "ValueError",
     "evalue": "x and y must have same first dimension, but have shapes (5,) and (1,)",
     "output_type": "error",
     "traceback": [
      "\u001b[1;31m---------------------------------------------------------------------------\u001b[0m",
      "\u001b[1;31mValueError\u001b[0m                                Traceback (most recent call last)",
      "Cell \u001b[1;32mIn[130], line 4\u001b[0m\n\u001b[0;32m      2\u001b[0m plt\u001b[38;5;241m.\u001b[39mfigure(figsize\u001b[38;5;241m=\u001b[39m(\u001b[38;5;241m10\u001b[39m, \u001b[38;5;241m5\u001b[39m))\n\u001b[0;32m      3\u001b[0m \u001b[38;5;28;01mfor\u001b[39;00m i, method \u001b[38;5;129;01min\u001b[39;00m \u001b[38;5;28menumerate\u001b[39m([naive_pattern_search, bayer_moore, rabin_karp_search, KMPSearch]):\n\u001b[1;32m----> 4\u001b[0m     \u001b[43mplt\u001b[49m\u001b[38;5;241;43m.\u001b[39;49m\u001b[43mplot\u001b[49m\u001b[43m(\u001b[49m\u001b[43m[\u001b[49m\u001b[38;5;28;43mlen\u001b[39;49m\u001b[43m(\u001b[49m\u001b[43mtext\u001b[49m\u001b[43m)\u001b[49m\u001b[43m \u001b[49m\u001b[38;5;28;43;01mfor\u001b[39;49;00m\u001b[43m \u001b[49m\u001b[43mtext\u001b[49m\u001b[43m \u001b[49m\u001b[38;5;129;43;01min\u001b[39;49;00m\u001b[43m \u001b[49m\u001b[43mtexts\u001b[49m\u001b[43m]\u001b[49m\u001b[43m,\u001b[49m\u001b[43m \u001b[49m\u001b[43mtime_values\u001b[49m\u001b[43m[\u001b[49m\u001b[43mi\u001b[49m\u001b[43m]\u001b[49m\u001b[43m,\u001b[49m\u001b[43m \u001b[49m\u001b[43mlabel\u001b[49m\u001b[38;5;241;43m=\u001b[39;49m\u001b[43mmethod\u001b[49m\u001b[38;5;241;43m.\u001b[39;49m\u001b[38;5;18;43m__name__\u001b[39;49m\u001b[43m)\u001b[49m\n\u001b[0;32m      6\u001b[0m plt\u001b[38;5;241m.\u001b[39mlegend()\n\u001b[0;32m      7\u001b[0m plt\u001b[38;5;241m.\u001b[39mylabel(\u001b[38;5;124m'\u001b[39m\u001b[38;5;124mExecution TIME\u001b[39m\u001b[38;5;124m'\u001b[39m)\n",
      "File \u001b[1;32mc:\\Users\\Tim\\AppData\\Local\\Programs\\Python\\Python310\\lib\\site-packages\\matplotlib\\pyplot.py:3827\u001b[0m, in \u001b[0;36mplot\u001b[1;34m(scalex, scaley, data, *args, **kwargs)\u001b[0m\n\u001b[0;32m   3819\u001b[0m \u001b[38;5;129m@_copy_docstring_and_deprecators\u001b[39m(Axes\u001b[38;5;241m.\u001b[39mplot)\n\u001b[0;32m   3820\u001b[0m \u001b[38;5;28;01mdef\u001b[39;00m\u001b[38;5;250m \u001b[39m\u001b[38;5;21mplot\u001b[39m(\n\u001b[0;32m   3821\u001b[0m     \u001b[38;5;241m*\u001b[39margs: \u001b[38;5;28mfloat\u001b[39m \u001b[38;5;241m|\u001b[39m ArrayLike \u001b[38;5;241m|\u001b[39m \u001b[38;5;28mstr\u001b[39m,\n\u001b[1;32m   (...)\u001b[0m\n\u001b[0;32m   3825\u001b[0m     \u001b[38;5;241m*\u001b[39m\u001b[38;5;241m*\u001b[39mkwargs,\n\u001b[0;32m   3826\u001b[0m ) \u001b[38;5;241m-\u001b[39m\u001b[38;5;241m>\u001b[39m \u001b[38;5;28mlist\u001b[39m[Line2D]:\n\u001b[1;32m-> 3827\u001b[0m     \u001b[38;5;28;01mreturn\u001b[39;00m gca()\u001b[38;5;241m.\u001b[39mplot(\n\u001b[0;32m   3828\u001b[0m         \u001b[38;5;241m*\u001b[39margs,\n\u001b[0;32m   3829\u001b[0m         scalex\u001b[38;5;241m=\u001b[39mscalex,\n\u001b[0;32m   3830\u001b[0m         scaley\u001b[38;5;241m=\u001b[39mscaley,\n\u001b[0;32m   3831\u001b[0m         \u001b[38;5;241m*\u001b[39m\u001b[38;5;241m*\u001b[39m({\u001b[38;5;124m\"\u001b[39m\u001b[38;5;124mdata\u001b[39m\u001b[38;5;124m\"\u001b[39m: data} \u001b[38;5;28;01mif\u001b[39;00m data \u001b[38;5;129;01mis\u001b[39;00m \u001b[38;5;129;01mnot\u001b[39;00m \u001b[38;5;28;01mNone\u001b[39;00m \u001b[38;5;28;01melse\u001b[39;00m {}),\n\u001b[0;32m   3832\u001b[0m         \u001b[38;5;241m*\u001b[39m\u001b[38;5;241m*\u001b[39mkwargs,\n\u001b[0;32m   3833\u001b[0m     )\n",
      "File \u001b[1;32mc:\\Users\\Tim\\AppData\\Local\\Programs\\Python\\Python310\\lib\\site-packages\\matplotlib\\axes\\_axes.py:1777\u001b[0m, in \u001b[0;36mAxes.plot\u001b[1;34m(self, scalex, scaley, data, *args, **kwargs)\u001b[0m\n\u001b[0;32m   1534\u001b[0m \u001b[38;5;250m\u001b[39m\u001b[38;5;124;03m\"\"\"\u001b[39;00m\n\u001b[0;32m   1535\u001b[0m \u001b[38;5;124;03mPlot y versus x as lines and/or markers.\u001b[39;00m\n\u001b[0;32m   1536\u001b[0m \n\u001b[1;32m   (...)\u001b[0m\n\u001b[0;32m   1774\u001b[0m \u001b[38;5;124;03m(``'green'``) or hex strings (``'#008000'``).\u001b[39;00m\n\u001b[0;32m   1775\u001b[0m \u001b[38;5;124;03m\"\"\"\u001b[39;00m\n\u001b[0;32m   1776\u001b[0m kwargs \u001b[38;5;241m=\u001b[39m cbook\u001b[38;5;241m.\u001b[39mnormalize_kwargs(kwargs, mlines\u001b[38;5;241m.\u001b[39mLine2D)\n\u001b[1;32m-> 1777\u001b[0m lines \u001b[38;5;241m=\u001b[39m [\u001b[38;5;241m*\u001b[39m\u001b[38;5;28mself\u001b[39m\u001b[38;5;241m.\u001b[39m_get_lines(\u001b[38;5;28mself\u001b[39m, \u001b[38;5;241m*\u001b[39margs, data\u001b[38;5;241m=\u001b[39mdata, \u001b[38;5;241m*\u001b[39m\u001b[38;5;241m*\u001b[39mkwargs)]\n\u001b[0;32m   1778\u001b[0m \u001b[38;5;28;01mfor\u001b[39;00m line \u001b[38;5;129;01min\u001b[39;00m lines:\n\u001b[0;32m   1779\u001b[0m     \u001b[38;5;28mself\u001b[39m\u001b[38;5;241m.\u001b[39madd_line(line)\n",
      "File \u001b[1;32mc:\\Users\\Tim\\AppData\\Local\\Programs\\Python\\Python310\\lib\\site-packages\\matplotlib\\axes\\_base.py:297\u001b[0m, in \u001b[0;36m_process_plot_var_args.__call__\u001b[1;34m(self, axes, data, return_kwargs, *args, **kwargs)\u001b[0m\n\u001b[0;32m    295\u001b[0m     this \u001b[38;5;241m+\u001b[39m\u001b[38;5;241m=\u001b[39m args[\u001b[38;5;241m0\u001b[39m],\n\u001b[0;32m    296\u001b[0m     args \u001b[38;5;241m=\u001b[39m args[\u001b[38;5;241m1\u001b[39m:]\n\u001b[1;32m--> 297\u001b[0m \u001b[38;5;28;01myield from\u001b[39;00m \u001b[38;5;28;43mself\u001b[39;49m\u001b[38;5;241;43m.\u001b[39;49m\u001b[43m_plot_args\u001b[49m\u001b[43m(\u001b[49m\n\u001b[0;32m    298\u001b[0m \u001b[43m    \u001b[49m\u001b[43maxes\u001b[49m\u001b[43m,\u001b[49m\u001b[43m \u001b[49m\u001b[43mthis\u001b[49m\u001b[43m,\u001b[49m\u001b[43m \u001b[49m\u001b[43mkwargs\u001b[49m\u001b[43m,\u001b[49m\u001b[43m \u001b[49m\u001b[43mambiguous_fmt_datakey\u001b[49m\u001b[38;5;241;43m=\u001b[39;49m\u001b[43mambiguous_fmt_datakey\u001b[49m\u001b[43m,\u001b[49m\n\u001b[0;32m    299\u001b[0m \u001b[43m    \u001b[49m\u001b[43mreturn_kwargs\u001b[49m\u001b[38;5;241;43m=\u001b[39;49m\u001b[43mreturn_kwargs\u001b[49m\n\u001b[0;32m    300\u001b[0m \u001b[43m\u001b[49m\u001b[43m)\u001b[49m\n",
      "File \u001b[1;32mc:\\Users\\Tim\\AppData\\Local\\Programs\\Python\\Python310\\lib\\site-packages\\matplotlib\\axes\\_base.py:494\u001b[0m, in \u001b[0;36m_process_plot_var_args._plot_args\u001b[1;34m(self, axes, tup, kwargs, return_kwargs, ambiguous_fmt_datakey)\u001b[0m\n\u001b[0;32m    491\u001b[0m     axes\u001b[38;5;241m.\u001b[39myaxis\u001b[38;5;241m.\u001b[39mupdate_units(y)\n\u001b[0;32m    493\u001b[0m \u001b[38;5;28;01mif\u001b[39;00m x\u001b[38;5;241m.\u001b[39mshape[\u001b[38;5;241m0\u001b[39m] \u001b[38;5;241m!=\u001b[39m y\u001b[38;5;241m.\u001b[39mshape[\u001b[38;5;241m0\u001b[39m]:\n\u001b[1;32m--> 494\u001b[0m     \u001b[38;5;28;01mraise\u001b[39;00m \u001b[38;5;167;01mValueError\u001b[39;00m(\u001b[38;5;124mf\u001b[39m\u001b[38;5;124m\"\u001b[39m\u001b[38;5;124mx and y must have same first dimension, but \u001b[39m\u001b[38;5;124m\"\u001b[39m\n\u001b[0;32m    495\u001b[0m                      \u001b[38;5;124mf\u001b[39m\u001b[38;5;124m\"\u001b[39m\u001b[38;5;124mhave shapes \u001b[39m\u001b[38;5;132;01m{\u001b[39;00mx\u001b[38;5;241m.\u001b[39mshape\u001b[38;5;132;01m}\u001b[39;00m\u001b[38;5;124m and \u001b[39m\u001b[38;5;132;01m{\u001b[39;00my\u001b[38;5;241m.\u001b[39mshape\u001b[38;5;132;01m}\u001b[39;00m\u001b[38;5;124m\"\u001b[39m)\n\u001b[0;32m    496\u001b[0m \u001b[38;5;28;01mif\u001b[39;00m x\u001b[38;5;241m.\u001b[39mndim \u001b[38;5;241m>\u001b[39m \u001b[38;5;241m2\u001b[39m \u001b[38;5;129;01mor\u001b[39;00m y\u001b[38;5;241m.\u001b[39mndim \u001b[38;5;241m>\u001b[39m \u001b[38;5;241m2\u001b[39m:\n\u001b[0;32m    497\u001b[0m     \u001b[38;5;28;01mraise\u001b[39;00m \u001b[38;5;167;01mValueError\u001b[39;00m(\u001b[38;5;124mf\u001b[39m\u001b[38;5;124m\"\u001b[39m\u001b[38;5;124mx and y can be no greater than 2D, but have \u001b[39m\u001b[38;5;124m\"\u001b[39m\n\u001b[0;32m    498\u001b[0m                      \u001b[38;5;124mf\u001b[39m\u001b[38;5;124m\"\u001b[39m\u001b[38;5;124mshapes \u001b[39m\u001b[38;5;132;01m{\u001b[39;00mx\u001b[38;5;241m.\u001b[39mshape\u001b[38;5;132;01m}\u001b[39;00m\u001b[38;5;124m and \u001b[39m\u001b[38;5;132;01m{\u001b[39;00my\u001b[38;5;241m.\u001b[39mshape\u001b[38;5;132;01m}\u001b[39;00m\u001b[38;5;124m\"\u001b[39m)\n",
      "\u001b[1;31mValueError\u001b[0m: x and y must have same first dimension, but have shapes (5,) and (1,)"
     ]
    },
    {
     "data": {
      "image/png": "[encoded data removed]",
      "text/plain": [
       "<Figure size 1000x500 with 1 Axes>"
      ]
     },
     "metadata": {},
     "output_type": "display_data"
    }
   ],
   "source": [
    "for i, method in enumerate([naive_pattern_search, bayer_moore, rabin_karp_search, KMPSearch]):\n",
    "    plt.plot([len(text) for text in texts], time_values[i], label=method.__name__)\n",
    "    \n",
    "plt.legend()\n",
    "plt.ylabel('Execution TIME')\n",
    "plt.xlabel('texts LENGTHS')\n",
    "plt.show()"
   ]
  },
  {
   "cell_type": "code",
   "execution_count": 122,
   "id": "c483b3ea",
   "metadata": {},
   "outputs": [],
   "source": [
    "import random\n",
    "\n",
    "text2 = ''.join(random.choices(\"ACGT\", k=100_000))\n",
    "pattern2 = \"ACGTACGTAC\"\n"
   ]
  },
  {
   "cell_type": "code",
   "execution_count": 123,
   "id": "3f74d8d8",
   "metadata": {},
   "outputs": [
    {
     "data": {
      "text/plain": [
       "100000"
      ]
     },
     "execution_count": 123,
     "metadata": {},
     "output_type": "execute_result"
    }
   ],
   "source": [
    "len(text2)"
   ]
  },
  {
   "cell_type": "markdown",
   "id": "26081c18",
   "metadata": {},
   "source": []
  }
 ],
 "metadata": {
  "kernelspec": {
   "display_name": "Python 3",
   "language": "python",
   "name": "python3"
  },
  "language_info": {
   "codemirror_mode": {
    "name": "ipython",
    "version": 3
   },
   "file_extension": ".py",
   "mimetype": "text/x-python",
   "name": "python",
   "nbconvert_exporter": "python",
   "pygments_lexer": "ipython3",
   "version": "3.10.6"
  }
 },
 "nbformat": 4,
 "nbformat_minor": 5
}
